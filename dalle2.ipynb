{
 "cells": [
  {
   "cell_type": "code",
   "execution_count": 1,
   "metadata": {},
   "outputs": [
    {
     "name": "stderr",
     "output_type": "stream",
     "text": [
      "/Users/vincent/Library/Caches/pypoetry/virtualenvs/image-generation-5wgIBDz3-py3.8/lib/python3.8/site-packages/tqdm/auto.py:22: TqdmWarning: IProgress not found. Please update jupyter and ipywidgets. See https://ipywidgets.readthedocs.io/en/stable/user_install.html\n",
      "  from .autonotebook import tqdm as notebook_tqdm\n"
     ]
    },
    {
     "ename": "ModuleNotFoundError",
     "evalue": "No module named '_lzma'",
     "output_type": "error",
     "traceback": [
      "\u001b[0;31m---------------------------------------------------------------------------\u001b[0m",
      "\u001b[0;31mModuleNotFoundError\u001b[0m                       Traceback (most recent call last)",
      "\u001b[1;32m/Users/vincent/Workspace/image-generation/dalle2.ipynb Cell 1'\u001b[0m in \u001b[0;36m<cell line: 2>\u001b[0;34m()\u001b[0m\n\u001b[1;32m      <a href='vscode-notebook-cell:/Users/vincent/Workspace/image-generation/dalle2.ipynb#ch0000000?line=0'>1</a>\u001b[0m \u001b[39mimport\u001b[39;00m \u001b[39mtorch\u001b[39;00m\n\u001b[0;32m----> <a href='vscode-notebook-cell:/Users/vincent/Workspace/image-generation/dalle2.ipynb#ch0000000?line=1'>2</a>\u001b[0m \u001b[39mfrom\u001b[39;00m \u001b[39mdalle2_pytorch\u001b[39;00m \u001b[39mimport\u001b[39;00m DiffusionPriorNetwork, DiffusionPrior, Unet, Decoder, OpenAIClipAdapter, \\\n\u001b[1;32m      <a href='vscode-notebook-cell:/Users/vincent/Workspace/image-generation/dalle2.ipynb#ch0000000?line=2'>3</a>\u001b[0m     DiffusionPriorTrainer, DALLE2\n",
      "File \u001b[0;32m~/Library/Caches/pypoetry/virtualenvs/image-generation-5wgIBDz3-py3.8/lib/python3.8/site-packages/dalle2_pytorch/__init__.py:1\u001b[0m, in \u001b[0;36m<module>\u001b[0;34m\u001b[0m\n\u001b[0;32m----> <a href='file:///Users/vincent/Library/Caches/pypoetry/virtualenvs/image-generation-5wgIBDz3-py3.8/lib/python3.8/site-packages/dalle2_pytorch/__init__.py?line=0'>1</a>\u001b[0m \u001b[39mfrom\u001b[39;00m \u001b[39mdalle2_pytorch\u001b[39;00m\u001b[39m.\u001b[39;00m\u001b[39mdalle2_pytorch\u001b[39;00m \u001b[39mimport\u001b[39;00m DALLE2, DiffusionPriorNetwork, DiffusionPrior, Unet, Decoder\n\u001b[1;32m      <a href='file:///Users/vincent/Library/Caches/pypoetry/virtualenvs/image-generation-5wgIBDz3-py3.8/lib/python3.8/site-packages/dalle2_pytorch/__init__.py?line=1'>2</a>\u001b[0m \u001b[39mfrom\u001b[39;00m \u001b[39mdalle2_pytorch\u001b[39;00m\u001b[39m.\u001b[39;00m\u001b[39mdalle2_pytorch\u001b[39;00m \u001b[39mimport\u001b[39;00m OpenAIClipAdapter\n\u001b[1;32m      <a href='file:///Users/vincent/Library/Caches/pypoetry/virtualenvs/image-generation-5wgIBDz3-py3.8/lib/python3.8/site-packages/dalle2_pytorch/__init__.py?line=2'>3</a>\u001b[0m \u001b[39mfrom\u001b[39;00m \u001b[39mdalle2_pytorch\u001b[39;00m\u001b[39m.\u001b[39;00m\u001b[39mtrainer\u001b[39;00m \u001b[39mimport\u001b[39;00m DecoderTrainer, DiffusionPriorTrainer\n",
      "File \u001b[0;32m~/Library/Caches/pypoetry/virtualenvs/image-generation-5wgIBDz3-py3.8/lib/python3.8/site-packages/dalle2_pytorch/dalle2_pytorch.py:12\u001b[0m, in \u001b[0;36m<module>\u001b[0;34m\u001b[0m\n\u001b[1;32m     <a href='file:///Users/vincent/Library/Caches/pypoetry/virtualenvs/image-generation-5wgIBDz3-py3.8/lib/python3.8/site-packages/dalle2_pytorch/dalle2_pytorch.py?line=9'>10</a>\u001b[0m \u001b[39mimport\u001b[39;00m \u001b[39mtorch\u001b[39;00m\u001b[39m.\u001b[39;00m\u001b[39mnn\u001b[39;00m\u001b[39m.\u001b[39;00m\u001b[39mfunctional\u001b[39;00m \u001b[39mas\u001b[39;00m \u001b[39mF\u001b[39;00m\n\u001b[1;32m     <a href='file:///Users/vincent/Library/Caches/pypoetry/virtualenvs/image-generation-5wgIBDz3-py3.8/lib/python3.8/site-packages/dalle2_pytorch/dalle2_pytorch.py?line=10'>11</a>\u001b[0m \u001b[39mfrom\u001b[39;00m \u001b[39mtorch\u001b[39;00m \u001b[39mimport\u001b[39;00m nn, einsum\n\u001b[0;32m---> <a href='file:///Users/vincent/Library/Caches/pypoetry/virtualenvs/image-generation-5wgIBDz3-py3.8/lib/python3.8/site-packages/dalle2_pytorch/dalle2_pytorch.py?line=11'>12</a>\u001b[0m \u001b[39mimport\u001b[39;00m \u001b[39mtorchvision\u001b[39;00m\u001b[39m.\u001b[39;00m\u001b[39mtransforms\u001b[39;00m \u001b[39mas\u001b[39;00m \u001b[39mT\u001b[39;00m\n\u001b[1;32m     <a href='file:///Users/vincent/Library/Caches/pypoetry/virtualenvs/image-generation-5wgIBDz3-py3.8/lib/python3.8/site-packages/dalle2_pytorch/dalle2_pytorch.py?line=13'>14</a>\u001b[0m \u001b[39mfrom\u001b[39;00m \u001b[39meinops\u001b[39;00m \u001b[39mimport\u001b[39;00m rearrange, repeat\n\u001b[1;32m     <a href='file:///Users/vincent/Library/Caches/pypoetry/virtualenvs/image-generation-5wgIBDz3-py3.8/lib/python3.8/site-packages/dalle2_pytorch/dalle2_pytorch.py?line=14'>15</a>\u001b[0m \u001b[39mfrom\u001b[39;00m \u001b[39meinops\u001b[39;00m\u001b[39m.\u001b[39;00m\u001b[39mlayers\u001b[39;00m\u001b[39m.\u001b[39;00m\u001b[39mtorch\u001b[39;00m \u001b[39mimport\u001b[39;00m Rearrange\n",
      "File \u001b[0;32m~/Library/Caches/pypoetry/virtualenvs/image-generation-5wgIBDz3-py3.8/lib/python3.8/site-packages/torchvision/__init__.py:5\u001b[0m, in \u001b[0;36m<module>\u001b[0;34m\u001b[0m\n\u001b[1;32m      <a href='file:///Users/vincent/Library/Caches/pypoetry/virtualenvs/image-generation-5wgIBDz3-py3.8/lib/python3.8/site-packages/torchvision/__init__.py?line=1'>2</a>\u001b[0m \u001b[39mimport\u001b[39;00m \u001b[39mwarnings\u001b[39;00m\n\u001b[1;32m      <a href='file:///Users/vincent/Library/Caches/pypoetry/virtualenvs/image-generation-5wgIBDz3-py3.8/lib/python3.8/site-packages/torchvision/__init__.py?line=3'>4</a>\u001b[0m \u001b[39mimport\u001b[39;00m \u001b[39mtorch\u001b[39;00m\n\u001b[0;32m----> <a href='file:///Users/vincent/Library/Caches/pypoetry/virtualenvs/image-generation-5wgIBDz3-py3.8/lib/python3.8/site-packages/torchvision/__init__.py?line=4'>5</a>\u001b[0m \u001b[39mfrom\u001b[39;00m \u001b[39mtorchvision\u001b[39;00m \u001b[39mimport\u001b[39;00m datasets\n\u001b[1;32m      <a href='file:///Users/vincent/Library/Caches/pypoetry/virtualenvs/image-generation-5wgIBDz3-py3.8/lib/python3.8/site-packages/torchvision/__init__.py?line=5'>6</a>\u001b[0m \u001b[39mfrom\u001b[39;00m \u001b[39mtorchvision\u001b[39;00m \u001b[39mimport\u001b[39;00m io\n\u001b[1;32m      <a href='file:///Users/vincent/Library/Caches/pypoetry/virtualenvs/image-generation-5wgIBDz3-py3.8/lib/python3.8/site-packages/torchvision/__init__.py?line=6'>7</a>\u001b[0m \u001b[39mfrom\u001b[39;00m \u001b[39mtorchvision\u001b[39;00m \u001b[39mimport\u001b[39;00m models\n",
      "File \u001b[0;32m~/Library/Caches/pypoetry/virtualenvs/image-generation-5wgIBDz3-py3.8/lib/python3.8/site-packages/torchvision/datasets/__init__.py:1\u001b[0m, in \u001b[0;36m<module>\u001b[0;34m\u001b[0m\n\u001b[0;32m----> <a href='file:///Users/vincent/Library/Caches/pypoetry/virtualenvs/image-generation-5wgIBDz3-py3.8/lib/python3.8/site-packages/torchvision/datasets/__init__.py?line=0'>1</a>\u001b[0m \u001b[39mfrom\u001b[39;00m \u001b[39m.\u001b[39;00m\u001b[39m_optical_flow\u001b[39;00m \u001b[39mimport\u001b[39;00m KittiFlow, Sintel, FlyingChairs, FlyingThings3D, HD1K\n\u001b[1;32m      <a href='file:///Users/vincent/Library/Caches/pypoetry/virtualenvs/image-generation-5wgIBDz3-py3.8/lib/python3.8/site-packages/torchvision/datasets/__init__.py?line=1'>2</a>\u001b[0m \u001b[39mfrom\u001b[39;00m \u001b[39m.\u001b[39;00m\u001b[39mcaltech\u001b[39;00m \u001b[39mimport\u001b[39;00m Caltech101, Caltech256\n\u001b[1;32m      <a href='file:///Users/vincent/Library/Caches/pypoetry/virtualenvs/image-generation-5wgIBDz3-py3.8/lib/python3.8/site-packages/torchvision/datasets/__init__.py?line=2'>3</a>\u001b[0m \u001b[39mfrom\u001b[39;00m \u001b[39m.\u001b[39;00m\u001b[39mceleba\u001b[39;00m \u001b[39mimport\u001b[39;00m CelebA\n",
      "File \u001b[0;32m~/Library/Caches/pypoetry/virtualenvs/image-generation-5wgIBDz3-py3.8/lib/python3.8/site-packages/torchvision/datasets/_optical_flow.py:13\u001b[0m, in \u001b[0;36m<module>\u001b[0;34m\u001b[0m\n\u001b[1;32m     <a href='file:///Users/vincent/Library/Caches/pypoetry/virtualenvs/image-generation-5wgIBDz3-py3.8/lib/python3.8/site-packages/torchvision/datasets/_optical_flow.py?line=9'>10</a>\u001b[0m \u001b[39mfrom\u001b[39;00m \u001b[39mPIL\u001b[39;00m \u001b[39mimport\u001b[39;00m Image\n\u001b[1;32m     <a href='file:///Users/vincent/Library/Caches/pypoetry/virtualenvs/image-generation-5wgIBDz3-py3.8/lib/python3.8/site-packages/torchvision/datasets/_optical_flow.py?line=11'>12</a>\u001b[0m \u001b[39mfrom\u001b[39;00m \u001b[39m.\u001b[39;00m\u001b[39m.\u001b[39;00m\u001b[39mio\u001b[39;00m\u001b[39m.\u001b[39;00m\u001b[39mimage\u001b[39;00m \u001b[39mimport\u001b[39;00m _read_png_16\n\u001b[0;32m---> <a href='file:///Users/vincent/Library/Caches/pypoetry/virtualenvs/image-generation-5wgIBDz3-py3.8/lib/python3.8/site-packages/torchvision/datasets/_optical_flow.py?line=12'>13</a>\u001b[0m \u001b[39mfrom\u001b[39;00m \u001b[39m.\u001b[39;00m\u001b[39mutils\u001b[39;00m \u001b[39mimport\u001b[39;00m verify_str_arg\n\u001b[1;32m     <a href='file:///Users/vincent/Library/Caches/pypoetry/virtualenvs/image-generation-5wgIBDz3-py3.8/lib/python3.8/site-packages/torchvision/datasets/_optical_flow.py?line=13'>14</a>\u001b[0m \u001b[39mfrom\u001b[39;00m \u001b[39m.\u001b[39;00m\u001b[39mvision\u001b[39;00m \u001b[39mimport\u001b[39;00m VisionDataset\n\u001b[1;32m     <a href='file:///Users/vincent/Library/Caches/pypoetry/virtualenvs/image-generation-5wgIBDz3-py3.8/lib/python3.8/site-packages/torchvision/datasets/_optical_flow.py?line=16'>17</a>\u001b[0m __all__ \u001b[39m=\u001b[39m (\n\u001b[1;32m     <a href='file:///Users/vincent/Library/Caches/pypoetry/virtualenvs/image-generation-5wgIBDz3-py3.8/lib/python3.8/site-packages/torchvision/datasets/_optical_flow.py?line=17'>18</a>\u001b[0m     \u001b[39m\"\u001b[39m\u001b[39mKittiFlow\u001b[39m\u001b[39m\"\u001b[39m,\n\u001b[1;32m     <a href='file:///Users/vincent/Library/Caches/pypoetry/virtualenvs/image-generation-5wgIBDz3-py3.8/lib/python3.8/site-packages/torchvision/datasets/_optical_flow.py?line=18'>19</a>\u001b[0m     \u001b[39m\"\u001b[39m\u001b[39mSintel\u001b[39m\u001b[39m\"\u001b[39m,\n\u001b[0;32m   (...)\u001b[0m\n\u001b[1;32m     <a href='file:///Users/vincent/Library/Caches/pypoetry/virtualenvs/image-generation-5wgIBDz3-py3.8/lib/python3.8/site-packages/torchvision/datasets/_optical_flow.py?line=21'>22</a>\u001b[0m     \u001b[39m\"\u001b[39m\u001b[39mHD1K\u001b[39m\u001b[39m\"\u001b[39m,\n\u001b[1;32m     <a href='file:///Users/vincent/Library/Caches/pypoetry/virtualenvs/image-generation-5wgIBDz3-py3.8/lib/python3.8/site-packages/torchvision/datasets/_optical_flow.py?line=22'>23</a>\u001b[0m )\n",
      "File \u001b[0;32m~/Library/Caches/pypoetry/virtualenvs/image-generation-5wgIBDz3-py3.8/lib/python3.8/site-packages/torchvision/datasets/utils.py:5\u001b[0m, in \u001b[0;36m<module>\u001b[0;34m\u001b[0m\n\u001b[1;32m      <a href='file:///Users/vincent/Library/Caches/pypoetry/virtualenvs/image-generation-5wgIBDz3-py3.8/lib/python3.8/site-packages/torchvision/datasets/utils.py?line=2'>3</a>\u001b[0m \u001b[39mimport\u001b[39;00m \u001b[39mhashlib\u001b[39;00m\n\u001b[1;32m      <a href='file:///Users/vincent/Library/Caches/pypoetry/virtualenvs/image-generation-5wgIBDz3-py3.8/lib/python3.8/site-packages/torchvision/datasets/utils.py?line=3'>4</a>\u001b[0m \u001b[39mimport\u001b[39;00m \u001b[39mitertools\u001b[39;00m\n\u001b[0;32m----> <a href='file:///Users/vincent/Library/Caches/pypoetry/virtualenvs/image-generation-5wgIBDz3-py3.8/lib/python3.8/site-packages/torchvision/datasets/utils.py?line=4'>5</a>\u001b[0m \u001b[39mimport\u001b[39;00m \u001b[39mlzma\u001b[39;00m\n\u001b[1;32m      <a href='file:///Users/vincent/Library/Caches/pypoetry/virtualenvs/image-generation-5wgIBDz3-py3.8/lib/python3.8/site-packages/torchvision/datasets/utils.py?line=5'>6</a>\u001b[0m \u001b[39mimport\u001b[39;00m \u001b[39mos\u001b[39;00m\n\u001b[1;32m      <a href='file:///Users/vincent/Library/Caches/pypoetry/virtualenvs/image-generation-5wgIBDz3-py3.8/lib/python3.8/site-packages/torchvision/datasets/utils.py?line=6'>7</a>\u001b[0m \u001b[39mimport\u001b[39;00m \u001b[39mos\u001b[39;00m\u001b[39m.\u001b[39;00m\u001b[39mpath\u001b[39;00m\n",
      "File \u001b[0;32m~/.pyenv/versions/3.8.13/lib/python3.8/lzma.py:27\u001b[0m, in \u001b[0;36m<module>\u001b[0;34m\u001b[0m\n\u001b[1;32m     <a href='file:///Users/vincent/.pyenv/versions/3.8.13/lib/python3.8/lzma.py?line=24'>25</a>\u001b[0m \u001b[39mimport\u001b[39;00m \u001b[39mio\u001b[39;00m\n\u001b[1;32m     <a href='file:///Users/vincent/.pyenv/versions/3.8.13/lib/python3.8/lzma.py?line=25'>26</a>\u001b[0m \u001b[39mimport\u001b[39;00m \u001b[39mos\u001b[39;00m\n\u001b[0;32m---> <a href='file:///Users/vincent/.pyenv/versions/3.8.13/lib/python3.8/lzma.py?line=26'>27</a>\u001b[0m \u001b[39mfrom\u001b[39;00m \u001b[39m_lzma\u001b[39;00m \u001b[39mimport\u001b[39;00m \u001b[39m*\u001b[39m\n\u001b[1;32m     <a href='file:///Users/vincent/.pyenv/versions/3.8.13/lib/python3.8/lzma.py?line=27'>28</a>\u001b[0m \u001b[39mfrom\u001b[39;00m \u001b[39m_lzma\u001b[39;00m \u001b[39mimport\u001b[39;00m _encode_filter_properties, _decode_filter_properties\n\u001b[1;32m     <a href='file:///Users/vincent/.pyenv/versions/3.8.13/lib/python3.8/lzma.py?line=28'>29</a>\u001b[0m \u001b[39mimport\u001b[39;00m \u001b[39m_compression\u001b[39;00m\n",
      "\u001b[0;31mModuleNotFoundError\u001b[0m: No module named '_lzma'"
     ]
    }
   ],
   "source": [
    "import torch\n",
    "from dalle2_pytorch import DiffusionPriorNetwork, DiffusionPrior, Unet, Decoder, OpenAIClipAdapter, \\\n",
    "    DiffusionPriorTrainer, DALLE2"
   ]
  },
  {
   "cell_type": "code",
   "execution_count": null,
   "metadata": {},
   "outputs": [],
   "source": []
  }
 ],
 "metadata": {
  "interpreter": {
   "hash": "f81114da928afd5720edb012dc51a48fb8cc59f3e26413f4aeaa1a4e63996f50"
  },
  "kernelspec": {
   "display_name": "Python 3.8.13 ('image-generation-5wgIBDz3-py3.8')",
   "language": "python",
   "name": "python3"
  },
  "language_info": {
   "codemirror_mode": {
    "name": "ipython",
    "version": 3
   },
   "file_extension": ".py",
   "mimetype": "text/x-python",
   "name": "python",
   "nbconvert_exporter": "python",
   "pygments_lexer": "ipython3",
   "version": "3.8.13"
  },
  "orig_nbformat": 4
 },
 "nbformat": 4,
 "nbformat_minor": 2
}
